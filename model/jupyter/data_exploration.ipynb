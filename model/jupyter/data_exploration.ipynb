{
 "cells": [
  {
   "cell_type": "code",
   "execution_count": 3,
   "metadata": {},
   "outputs": [],
   "source": [
    "import pandas as pd\n",
    "import numpy as np\n",
    "import sounddevice as sd\n",
    "import soundfile as sf\n",
    "import librosa\n",
    "import os\n",
    "import sys"
   ]
  },
  {
   "cell_type": "code",
   "execution_count": 2,
   "metadata": {},
   "outputs": [],
   "source": [
    "\n",
    "def play_wav(filename, device_id=None, volume=1.0):\n",
    "    \"\"\"\n",
    "    Play a WAV file on a specific device with adjustable volume.\n",
    "\n",
    "    Parameters:\n",
    "    - filename: Path to the WAV file\n",
    "    - device_id: Index of the audio output device (None = default)\n",
    "    - volume: Volume multiplier (1.0 = normal, 0.5 = half, 2.0 = double)\n",
    "    \"\"\"\n",
    "    # Read the audio file\n",
    "    data, samplerate = sf.read(filename)\n",
    "\n",
    "    # Adjust the volume (Ensure values stay in range [-1, 1])\n",
    "    data = np.clip(data * volume, -1.0, 1.0)\n",
    "\n",
    "    # Play the modified audio\n",
    "    sd.play(data, samplerate, device=device_id)\n",
    "    sd.wait()  # Wait until playback is done"
   ]
  },
  {
   "cell_type": "code",
   "execution_count": null,
   "metadata": {},
   "outputs": [],
   "source": [
    "test_file = r\"H:\\DSP_project\\ignoredir\\data_test\\Recording.wav\""
   ]
  },
  {
   "cell_type": "code",
   "execution_count": null,
   "metadata": {},
   "outputs": [],
   "source": [
    "play_wav(test_file, device_id=7, volume=0.2)\n"
   ]
  },
  {
   "cell_type": "markdown",
   "metadata": {},
   "source": [
    "# Dataset 1"
   ]
  },
  {
   "cell_type": "code",
   "execution_count": 24,
   "metadata": {},
   "outputs": [
    {
     "name": "stdout",
     "output_type": "stream",
     "text": [
      "Accordion\n",
      "Acoustic_Guitar\n",
      "Banjo\n",
      "Bass_Guitar\n",
      "Clarinet\n",
      "cowbell\n",
      "Cymbals\n",
      "Dobro\n",
      "Drum_set\n",
      "Electro_Guitar\n",
      "Floor_Tom\n",
      "flute\n",
      "Harmonica\n",
      "Harmonium\n",
      "Hi_Hats\n",
      "Horn\n",
      "Keyboard\n",
      "Mandolin\n",
      "Organ\n",
      "Piano\n",
      "Saxophone\n",
      "Shakers\n",
      "Tambourine\n",
      "Trombone\n",
      "Trumpet\n",
      "Ukulele\n",
      "vibraphone\n",
      "Violin\n"
     ]
    }
   ],
   "source": [
    "path = r\"H:\\DSP_project\\ignoredir\\dataset\\archive\\music_dataset\"\n",
    "\n",
    "for folder in os.listdir(path):\n",
    "    print(folder)\n",
    "    \n"
   ]
  },
  {
   "cell_type": "markdown",
   "metadata": {},
   "source": [
    "# Dataset 2"
   ]
  },
  {
   "cell_type": "markdown",
   "metadata": {},
   "source": [
    "## train"
   ]
  },
  {
   "cell_type": "code",
   "execution_count": 25,
   "metadata": {},
   "outputs": [
    {
     "data": {
      "text/html": [
       "<div>\n",
       "<style scoped>\n",
       "    .dataframe tbody tr th:only-of-type {\n",
       "        vertical-align: middle;\n",
       "    }\n",
       "\n",
       "    .dataframe tbody tr th {\n",
       "        vertical-align: top;\n",
       "    }\n",
       "\n",
       "    .dataframe thead th {\n",
       "        text-align: right;\n",
       "    }\n",
       "</style>\n",
       "<table border=\"1\" class=\"dataframe\">\n",
       "  <thead>\n",
       "    <tr style=\"text-align: right;\">\n",
       "      <th></th>\n",
       "      <th>FileName</th>\n",
       "      <th>Class</th>\n",
       "    </tr>\n",
       "  </thead>\n",
       "  <tbody>\n",
       "    <tr>\n",
       "      <th>0</th>\n",
       "      <td>acoustic-guitar-logo-13084.wav</td>\n",
       "      <td>Sound_Guiatr</td>\n",
       "    </tr>\n",
       "    <tr>\n",
       "      <th>1</th>\n",
       "      <td>guitar-chords-70663.wav</td>\n",
       "      <td>Sound_Guiatr</td>\n",
       "    </tr>\n",
       "    <tr>\n",
       "      <th>2</th>\n",
       "      <td>guitar-intro-110935.wav</td>\n",
       "      <td>Sound_Guiatr</td>\n",
       "    </tr>\n",
       "    <tr>\n",
       "      <th>3</th>\n",
       "      <td>guitar-solo-27194.wav</td>\n",
       "      <td>Sound_Guiatr</td>\n",
       "    </tr>\n",
       "    <tr>\n",
       "      <th>4</th>\n",
       "      <td>guitar-solo-5999.wav</td>\n",
       "      <td>Sound_Guiatr</td>\n",
       "    </tr>\n",
       "  </tbody>\n",
       "</table>\n",
       "</div>"
      ],
      "text/plain": [
       "                         FileName         Class\n",
       "0  acoustic-guitar-logo-13084.wav  Sound_Guiatr\n",
       "1         guitar-chords-70663.wav  Sound_Guiatr\n",
       "2         guitar-intro-110935.wav  Sound_Guiatr\n",
       "3           guitar-solo-27194.wav  Sound_Guiatr\n",
       "4            guitar-solo-5999.wav  Sound_Guiatr"
      ]
     },
     "metadata": {},
     "output_type": "display_data"
    },
    {
     "name": "stdout",
     "output_type": "stream",
     "text": [
      "shape: (80, 2)\n",
      "class:  ['Sound_Guiatr' 'Sound_Drum' 'Sound_Violin' 'Sound_Piano']\n",
      "class amount:  4\n"
     ]
    }
   ],
   "source": [
    "path = r\"H:\\DSP_project\\ignoredir\\dataset\\archive2\\Metadata_Train.csv\"\n",
    "df = pd.read_csv(train_path)\n",
    "display(df.head())\n",
    "print(\"shape:\", df.shape)\n",
    "print(\"class: \",df[\"Class\"].unique())\n",
    "print(\"class amount: \", len(df[\"Class\"].unique()))\n"
   ]
  },
  {
   "cell_type": "markdown",
   "metadata": {},
   "source": [
    "## test"
   ]
  },
  {
   "cell_type": "code",
   "execution_count": 26,
   "metadata": {},
   "outputs": [
    {
     "data": {
      "text/html": [
       "<div>\n",
       "<style scoped>\n",
       "    .dataframe tbody tr th:only-of-type {\n",
       "        vertical-align: middle;\n",
       "    }\n",
       "\n",
       "    .dataframe tbody tr th {\n",
       "        vertical-align: top;\n",
       "    }\n",
       "\n",
       "    .dataframe thead th {\n",
       "        text-align: right;\n",
       "    }\n",
       "</style>\n",
       "<table border=\"1\" class=\"dataframe\">\n",
       "  <thead>\n",
       "    <tr style=\"text-align: right;\">\n",
       "      <th></th>\n",
       "      <th>FileName</th>\n",
       "      <th>Class</th>\n",
       "    </tr>\n",
       "  </thead>\n",
       "  <tbody>\n",
       "    <tr>\n",
       "      <th>0</th>\n",
       "      <td>acoustic-guitar-logo-13084.wav</td>\n",
       "      <td>Sound_Guiatr</td>\n",
       "    </tr>\n",
       "    <tr>\n",
       "      <th>1</th>\n",
       "      <td>guitar-chords-70663.wav</td>\n",
       "      <td>Sound_Guiatr</td>\n",
       "    </tr>\n",
       "    <tr>\n",
       "      <th>2</th>\n",
       "      <td>guitar-intro-110935.wav</td>\n",
       "      <td>Sound_Guiatr</td>\n",
       "    </tr>\n",
       "    <tr>\n",
       "      <th>3</th>\n",
       "      <td>guitar-solo-27194.wav</td>\n",
       "      <td>Sound_Guiatr</td>\n",
       "    </tr>\n",
       "    <tr>\n",
       "      <th>4</th>\n",
       "      <td>guitar-solo-5999.wav</td>\n",
       "      <td>Sound_Guiatr</td>\n",
       "    </tr>\n",
       "  </tbody>\n",
       "</table>\n",
       "</div>"
      ],
      "text/plain": [
       "                         FileName         Class\n",
       "0  acoustic-guitar-logo-13084.wav  Sound_Guiatr\n",
       "1         guitar-chords-70663.wav  Sound_Guiatr\n",
       "2         guitar-intro-110935.wav  Sound_Guiatr\n",
       "3           guitar-solo-27194.wav  Sound_Guiatr\n",
       "4            guitar-solo-5999.wav  Sound_Guiatr"
      ]
     },
     "metadata": {},
     "output_type": "display_data"
    },
    {
     "name": "stdout",
     "output_type": "stream",
     "text": [
      "shape: (80, 2)\n",
      "class:  ['Sound_Guiatr' 'Sound_Drum' 'Sound_Violin' 'Sound_Piano']\n",
      "class amount:  4\n"
     ]
    }
   ],
   "source": [
    "path = r\"H:\\DSP_project\\ignoredir\\dataset\\archive2\\Metadata_Test.csv\"\n",
    "df = pd.read_csv(train_path)\n",
    "display(df.head())\n",
    "print(\"shape:\", df.shape)\n",
    "print(\"class: \",df[\"Class\"].unique())\n",
    "print(\"class amount: \", len(df[\"Class\"].unique()))\n"
   ]
  }
 ],
 "metadata": {
  "kernelspec": {
   "display_name": "dsp",
   "language": "python",
   "name": "python3"
  },
  "language_info": {
   "codemirror_mode": {
    "name": "ipython",
    "version": 3
   },
   "file_extension": ".py",
   "mimetype": "text/x-python",
   "name": "python",
   "nbconvert_exporter": "python",
   "pygments_lexer": "ipython3",
   "version": "3.11.11"
  }
 },
 "nbformat": 4,
 "nbformat_minor": 2
}
